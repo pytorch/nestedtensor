{
 "cells": [
  {
   "cell_type": "markdown",
   "metadata": {},
   "source": [
    "### The tensorwise  decorator\n",
    "\n",
    "The nestedtensor package allows the user to decorate existing functions with a tensorwise decorator. This decorator lifts the given function to check for NestedTensor arguments and apply recursively apply it to their constiuents with \n",
    "all other arguments untouched."
   ]
  },
  {
   "cell_type": "code",
   "execution_count": 1,
   "metadata": {},
   "outputs": [],
   "source": [
    "import torch\n",
    "import nestedtensor\n",
    "from nestedtensor import tensorwise\n",
    "from IPython.display import Markdown, display\n",
    "\n",
    "def print_eval(s):\n",
    "    colorS = \"<span style='color:darkred'>$ {}</span>\".format(s)\n",
    "    display(Markdown('**{}**'.format(colorS))) \n",
    "    print('{}\\n'.format(str(eval(s))))"
   ]
  },
  {
   "cell_type": "code",
   "execution_count": 2,
   "metadata": {},
   "outputs": [
    {
     "data": {
      "text/markdown": [
       "**<span style='color:darkred'>$ sum_plus_one(a, b)</span>**"
      ],
      "text/plain": [
       "<IPython.core.display.Markdown object>"
      ]
     },
     "metadata": {},
     "output_type": "display_data"
    },
    {
     "name": "stdout",
     "output_type": "stream",
     "text": [
      "tensor([ 9, 11])\n",
      "\n"
     ]
    }
   ],
   "source": [
    "@tensorwise()\n",
    "def sum_plus_one(t1, t2):\n",
    "    return t1 + 1 + t2\n",
    "\n",
    "\n",
    "a = torch.tensor([1, 2])\n",
    "b = torch.tensor([7, 8])\n",
    "print_eval(\"sum_plus_one(a, b)\")"
   ]
  },
  {
   "cell_type": "markdown",
   "metadata": {},
   "source": [
    "Decorating the function as tensorwise does not affect its behavior with respect to non-NestedTensor arguments. In particular, the tensorwise decorator will search all arguments for a NestedTensor and if none is found dispatch to exactly the given function.\n",
    "\n",
    "The next example creates two NestedTensors each a combination of the given above Tensors which we can then pass into the decorated function."
   ]
  },
  {
   "cell_type": "code",
   "execution_count": 3,
   "metadata": {},
   "outputs": [
    {
     "data": {
      "text/markdown": [
       "**<span style='color:darkred'>$ nt1</span>**"
      ],
      "text/plain": [
       "<IPython.core.display.Markdown object>"
      ]
     },
     "metadata": {},
     "output_type": "display_data"
    },
    {
     "name": "stdout",
     "output_type": "stream",
     "text": [
      "nested_tensor([\n",
      "\ttensor([1, 2]),\n",
      "\ttensor([7, 8])\n",
      "])\n",
      "\n"
     ]
    },
    {
     "data": {
      "text/markdown": [
       "**<span style='color:darkred'>$ nt2</span>**"
      ],
      "text/plain": [
       "<IPython.core.display.Markdown object>"
      ]
     },
     "metadata": {},
     "output_type": "display_data"
    },
    {
     "name": "stdout",
     "output_type": "stream",
     "text": [
      "nested_tensor([\n",
      "\ttensor([7, 8]),\n",
      "\ttensor([1, 2])\n",
      "])\n",
      "\n"
     ]
    }
   ],
   "source": [
    "nt1 = nestedtensor.nested_tensor([a, b])\n",
    "nt2 = nestedtensor.nested_tensor([b, a])\n",
    "print_eval('nt1')\n",
    "print_eval('nt2')"
   ]
  },
  {
   "cell_type": "code",
   "execution_count": 4,
   "metadata": {},
   "outputs": [
    {
     "data": {
      "text/markdown": [
       "**<span style='color:darkred'>$ sum_plus_one(nt1, nt2)</span>**"
      ],
      "text/plain": [
       "<IPython.core.display.Markdown object>"
      ]
     },
     "metadata": {},
     "output_type": "display_data"
    },
    {
     "name": "stdout",
     "output_type": "stream",
     "text": [
      "nested_tensor([\n",
      "\ttensor([ 9, 11]),\n",
      "\ttensor([ 9, 11])\n",
      "])\n",
      "\n"
     ]
    },
    {
     "data": {
      "text/markdown": [
       "**<span style='color:darkred'>$ a</span>**"
      ],
      "text/plain": [
       "<IPython.core.display.Markdown object>"
      ]
     },
     "metadata": {},
     "output_type": "display_data"
    },
    {
     "name": "stdout",
     "output_type": "stream",
     "text": [
      "tensor([1, 2])\n",
      "\n"
     ]
    },
    {
     "data": {
      "text/markdown": [
       "**<span style='color:darkred'>$ nt1</span>**"
      ],
      "text/plain": [
       "<IPython.core.display.Markdown object>"
      ]
     },
     "metadata": {},
     "output_type": "display_data"
    },
    {
     "name": "stdout",
     "output_type": "stream",
     "text": [
      "nested_tensor([\n",
      "\ttensor([1, 2]),\n",
      "\ttensor([7, 8])\n",
      "])\n",
      "\n"
     ]
    },
    {
     "data": {
      "text/markdown": [
       "**<span style='color:darkred'>$ nt2</span>**"
      ],
      "text/plain": [
       "<IPython.core.display.Markdown object>"
      ]
     },
     "metadata": {},
     "output_type": "display_data"
    },
    {
     "name": "stdout",
     "output_type": "stream",
     "text": [
      "nested_tensor([\n",
      "\ttensor([7, 8]),\n",
      "\ttensor([1, 2])\n",
      "])\n",
      "\n"
     ]
    },
    {
     "data": {
      "text/markdown": [
       "**<span style='color:darkred'>$ sum_plus_one(a, nt2)</span>**"
      ],
      "text/plain": [
       "<IPython.core.display.Markdown object>"
      ]
     },
     "metadata": {},
     "output_type": "display_data"
    },
    {
     "name": "stdout",
     "output_type": "stream",
     "text": [
      "nested_tensor([\n",
      "\ttensor([ 9, 11]),\n",
      "\ttensor([3, 5])\n",
      "])\n",
      "\n"
     ]
    },
    {
     "data": {
      "text/markdown": [
       "**<span style='color:darkred'>$ sum_plus_one(a, nestedtensor.nested_tensor([nt1, nt2]))</span>**"
      ],
      "text/plain": [
       "<IPython.core.display.Markdown object>"
      ]
     },
     "metadata": {},
     "output_type": "display_data"
    },
    {
     "name": "stdout",
     "output_type": "stream",
     "text": [
      "nested_tensor([\n",
      "\t[\n",
      "\t\ttensor([3, 5]),\n",
      "\t\ttensor([ 9, 11])\n",
      "\t],\n",
      "\t[\n",
      "\t\ttensor([ 9, 11]),\n",
      "\t\ttensor([3, 5])\n",
      "\t]\n",
      "])\n",
      "\n"
     ]
    },
    {
     "data": {
      "text/markdown": [
       "**<span style='color:darkred'>$ sum_plus_one(nt1, nestedtensor.nested_tensor([nt1, nt2]))</span>**"
      ],
      "text/plain": [
       "<IPython.core.display.Markdown object>"
      ]
     },
     "metadata": {},
     "output_type": "display_data"
    },
    {
     "name": "stdout",
     "output_type": "stream",
     "text": [
      "nested_tensor([\n",
      "\t[\n",
      "\t\ttensor([3, 5]),\n",
      "\t\ttensor([ 9, 11])\n",
      "\t],\n",
      "\t[\n",
      "\t\ttensor([15, 17]),\n",
      "\t\ttensor([ 9, 11])\n",
      "\t]\n",
      "])\n",
      "\n"
     ]
    }
   ],
   "source": [
    "print_eval('sum_plus_one(nt1, nt2)')\n",
    "print_eval('a')\n",
    "print_eval('nt1')\n",
    "print_eval('nt2')\n",
    "print_eval('sum_plus_one(a, nt2)')\n",
    "print_eval('sum_plus_one(a, nestedtensor.nested_tensor([nt1, nt2]))')\n",
    "print_eval('sum_plus_one(nt1, nestedtensor.nested_tensor([nt1, nt2]))')"
   ]
  },
  {
   "cell_type": "markdown",
   "metadata": {},
   "source": [
    "We can write functionally equivalent code via a regular Python for-loop to further illustrate the behavior"
   ]
  },
  {
   "cell_type": "code",
   "execution_count": 5,
   "metadata": {},
   "outputs": [
    {
     "name": "stdout",
     "output_type": "stream",
     "text": [
      "[tensor([ 9, 11]), tensor([ 9, 11])]\n"
     ]
    }
   ],
   "source": [
    "print([sum_plus_one(t1, t2) for t1, t2 in zip([a, b], [b, a])])\n",
    "    "
   ]
  },
  {
   "cell_type": "markdown",
   "metadata": {},
   "source": [
    "In some sense we can view this as an unrolling operation, or in PyTorch terms, unbind. Unbind without further arguments returns a list of Tensor constiuents across the 0-th dimension."
   ]
  },
  {
   "cell_type": "code",
   "execution_count": 6,
   "metadata": {},
   "outputs": [
    {
     "data": {
      "text/markdown": [
       "**<span style='color:darkred'>$ a.unbind()</span>**"
      ],
      "text/plain": [
       "<IPython.core.display.Markdown object>"
      ]
     },
     "metadata": {},
     "output_type": "display_data"
    },
    {
     "name": "stdout",
     "output_type": "stream",
     "text": [
      "(tensor(1), tensor(2))\n",
      "\n"
     ]
    },
    {
     "data": {
      "text/markdown": [
       "**<span style='color:darkred'>$ nt1.unbind()</span>**"
      ],
      "text/plain": [
       "<IPython.core.display.Markdown object>"
      ]
     },
     "metadata": {},
     "output_type": "display_data"
    },
    {
     "name": "stdout",
     "output_type": "stream",
     "text": [
      "(tensor([1, 2]), tensor([7, 8]))\n",
      "\n"
     ]
    }
   ],
   "source": [
    "print_eval('a.unbind()')\n",
    "print_eval('nt1.unbind()')"
   ]
  },
  {
   "cell_type": "markdown",
   "metadata": {},
   "source": [
    "Sometimes we might also want to unbind non-Tensor arguments. For this case tensorwise requires these arguments to have a definition of ```__getitem__```, e.g. lists or torch.Tensors."
   ]
  },
  {
   "cell_type": "code",
   "execution_count": 7,
   "metadata": {},
   "outputs": [
    {
     "data": {
      "text/markdown": [
       "**<span style='color:darkred'>$ a</span>**"
      ],
      "text/plain": [
       "<IPython.core.display.Markdown object>"
      ]
     },
     "metadata": {},
     "output_type": "display_data"
    },
    {
     "name": "stdout",
     "output_type": "stream",
     "text": [
      "tensor([1, 2])\n",
      "\n"
     ]
    },
    {
     "data": {
      "text/markdown": [
       "**<span style='color:darkred'>$ b</span>**"
      ],
      "text/plain": [
       "<IPython.core.display.Markdown object>"
      ]
     },
     "metadata": {},
     "output_type": "display_data"
    },
    {
     "name": "stdout",
     "output_type": "stream",
     "text": [
      "tensor([7, 8])\n",
      "\n"
     ]
    },
    {
     "data": {
      "text/markdown": [
       "**<span style='color:darkred'>$ sum_plus_scalar(a, b, 3.0)</span>**"
      ],
      "text/plain": [
       "<IPython.core.display.Markdown object>"
      ]
     },
     "metadata": {},
     "output_type": "display_data"
    },
    {
     "name": "stdout",
     "output_type": "stream",
     "text": [
      "tensor([11., 13.])\n",
      "\n"
     ]
    }
   ],
   "source": [
    "@tensorwise(unbind_args=[2])\n",
    "def sum_plus_scalar(t1, t2, scalar,):\n",
    "    return t1 + scalar + t2\n",
    "\n",
    "print_eval('a')\n",
    "print_eval('b')\n",
    "print_eval('sum_plus_scalar(a, b, 3.0)')"
   ]
  },
  {
   "cell_type": "code",
   "execution_count": 8,
   "metadata": {},
   "outputs": [
    {
     "data": {
      "text/markdown": [
       "**<span style='color:darkred'>$ nt1</span>**"
      ],
      "text/plain": [
       "<IPython.core.display.Markdown object>"
      ]
     },
     "metadata": {},
     "output_type": "display_data"
    },
    {
     "name": "stdout",
     "output_type": "stream",
     "text": [
      "nested_tensor([\n",
      "\ttensor([1, 2]),\n",
      "\ttensor([7, 8])\n",
      "])\n",
      "\n"
     ]
    },
    {
     "data": {
      "text/markdown": [
       "**<span style='color:darkred'>$ nt2</span>**"
      ],
      "text/plain": [
       "<IPython.core.display.Markdown object>"
      ]
     },
     "metadata": {},
     "output_type": "display_data"
    },
    {
     "name": "stdout",
     "output_type": "stream",
     "text": [
      "nested_tensor([\n",
      "\ttensor([7, 8]),\n",
      "\ttensor([1, 2])\n",
      "])\n",
      "\n"
     ]
    },
    {
     "data": {
      "text/markdown": [
       "**<span style='color:darkred'>$ sum_plus_scalar(nt1, nt2, (2.0, 3.0))</span>**"
      ],
      "text/plain": [
       "<IPython.core.display.Markdown object>"
      ]
     },
     "metadata": {},
     "output_type": "display_data"
    },
    {
     "name": "stdout",
     "output_type": "stream",
     "text": [
      "nested_tensor([\n",
      "\ttensor([10., 12.]),\n",
      "\ttensor([11., 13.])\n",
      "])\n",
      "\n"
     ]
    }
   ],
   "source": [
    "print_eval('nt1')\n",
    "print_eval('nt2')\n",
    "print_eval('sum_plus_scalar(nt1, nt2, (2.0, 3.0))')"
   ]
  }
 ],
 "metadata": {
  "kernelspec": {
   "display_name": "Python 3",
   "language": "python",
   "name": "python3"
  },
  "language_info": {
   "codemirror_mode": {
    "name": "ipython",
    "version": 3
   },
   "file_extension": ".py",
   "mimetype": "text/x-python",
   "name": "python",
   "nbconvert_exporter": "python",
   "pygments_lexer": "ipython3",
   "version": "3.7.5"
  }
 },
 "nbformat": 4,
 "nbformat_minor": 2
}
