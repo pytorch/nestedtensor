{
 "cells": [
  {
   "cell_type": "code",
   "execution_count": 1,
   "metadata": {},
   "outputs": [],
   "source": [
    "import torch\n",
    "import nestedtensor\n",
    "from IPython.display import Markdown, display\n",
    "def print_eval(s):\n",
    "    colorS = \"<span style='color:darkred'>$ {}</span>\".format(s)\n",
    "    display(Markdown('**{}**'.format(colorS))) \n",
    "    print('{}\\n'.format(str(eval(s))))"
   ]
  },
  {
   "cell_type": "markdown",
   "metadata": {},
   "source": [
    "## Unary, binary and reduction operations.\n",
    "\n",
    "This notebook illustrates unary, binary and reduction operations such as cos_, add and sum in the context of NestedTensor. It assumes you are already familiar with some of the basic operations such as nested_size.\n",
    "\n"
   ]
  },
  {
   "cell_type": "markdown",
   "metadata": {},
   "source": [
    "### n-ary operations\n",
    "\n",
    "As of writing NestedTensors support the following n-ary operations at a module level (e.g. torch.cos), as a method (e.g. NestedTensor.eq) and their in-place equivalents.\n",
    "\n",
    "abs, acos, asin, atan, ceil, clamp, cos, cosh, digamma, erf, erfc, erfinv, exp, expm1, floor, fmod, frac, lgamma, log, log10, log1p, log2, mvlgamma, neg, reciprocal, round, rsqrt, sigmoid, sign, sin, sinh, sqrt, tan, tanh, trunc, add, mul, sub, div, pow, atan2, remainder, eq, ge, gt, le, ne, lt\n",
    "\n",
    "The code for this is generated based on a few core principles, that we only exhibit superficially here. See the notebook on the tensorwise decorator for a more detail exposition and on how to ad-hoc add your own operations to the NestedTensor ecosytem."
   ]
  },
  {
   "cell_type": "code",
   "execution_count": 2,
   "metadata": {},
   "outputs": [],
   "source": [
    "nt = nestedtensor.nested_tensor(\n",
    "[\n",
    "    [\n",
    "        torch.tensor([1.0, 0.5, 1.5]),\n",
    "        torch.tensor([3.0, 1.0, 3.3]),\n",
    "    ],\n",
    "    [\n",
    "        torch.tensor([3.0, 1.0, 2.0]),\n",
    "        torch.tensor([5.0, 4.0, 1.0])\n",
    "    ]\n",
    "])\n",
    "\n",
    "nt1 = nestedtensor.nested_tensor(\n",
    "[\n",
    "    [\n",
    "        torch.tensor([1.0, 0.5, 1.5]),\n",
    "        torch.tensor([5.0, 6.5])\n",
    "    ],\n",
    "    [\n",
    "        torch.tensor([3.0, 1.0, 3.3]),\n",
    "        torch.tensor([5.0, 4.0])\n",
    "    ]\n",
    "])\n",
    "\n",
    "nt2 = nestedtensor.nested_tensor(\n",
    "[\n",
    "    [\n",
    "        torch.tensor([1.0, 0.5, 1.5]),\n",
    "        torch.tensor([5.0, 6.5])\n",
    "    ],\n",
    "    [\n",
    "        torch.tensor([3.0, 1.0, 3.3, 2.2]),\n",
    "        torch.tensor([6.6])\n",
    "    ]\n",
    "])"
   ]
  },
  {
   "cell_type": "code",
   "execution_count": 3,
   "metadata": {},
   "outputs": [
    {
     "name": "stdout",
     "output_type": "stream",
     "text": [
      "nested_tensor([\n",
      "\t[\n",
      "\t\ttensor([6.0000, 3.7500, 8.7500]),\n",
      "\t\ttensor([20.0000,  6.0000, 22.7900])\n",
      "\t],\n",
      "\t[\n",
      "\t\ttensor([20.,  6., 12.]),\n",
      "\t\ttensor([42., 30.,  6.])\n",
      "\t]\n",
      "])\n"
     ]
    }
   ],
   "source": [
    "# Broadcasting of scalar and addition etc. all work as expected\n",
    "print((nt + 1) * (nt + 2))"
   ]
  },
  {
   "cell_type": "code",
   "execution_count": 4,
   "metadata": {},
   "outputs": [
    {
     "name": "stdout",
     "output_type": "stream",
     "text": [
      "nested_tensor([\n",
      "\t[\n",
      "\t\ttensor([0.5403, 0.8776, 0.0707]),\n",
      "\t\ttensor([-0.9900,  0.5403, -0.9875])\n",
      "\t],\n",
      "\t[\n",
      "\t\ttensor([-0.9900,  0.5403, -0.4161]),\n",
      "\t\ttensor([ 0.2837, -0.6536,  0.5403])\n",
      "\t]\n",
      "])\n"
     ]
    }
   ],
   "source": [
    "# The same is true for the usual unary operations.\n",
    "print(torch.cos(nt))"
   ]
  },
  {
   "cell_type": "markdown",
   "metadata": {},
   "source": [
    "### Reductions\n",
    "\n",
    "As of writing NestedTensors support the following reduction operations.\n",
    "\n"
   ]
  },
  {
   "cell_type": "code",
   "execution_count": 5,
   "metadata": {},
   "outputs": [
    {
     "name": "stdout",
     "output_type": "stream",
     "text": [
      "(2, 2, 3)\n"
     ]
    },
    {
     "data": {
      "text/plain": [
       "tensor(1.)"
      ]
     },
     "execution_count": 5,
     "metadata": {},
     "output_type": "execute_result"
    }
   ],
   "source": [
    "print(nt.size())\n",
    "nt[0][0][0]"
   ]
  },
  {
   "cell_type": "code",
   "execution_count": 6,
   "metadata": {},
   "outputs": [
    {
     "data": {
      "text/plain": [
       "torch.NestedSize((\n",
       "\t(\n",
       "\t\ttorch.Size([3]),\n",
       "\t\ttorch.Size([3])\n",
       "\t),\n",
       "\t(\n",
       "\t\ttorch.Size([3]),\n",
       "\t\ttorch.Size([3])\n",
       "\t)\n",
       "))"
      ]
     },
     "execution_count": 6,
     "metadata": {},
     "output_type": "execute_result"
    }
   ],
   "source": [
    "nt.nested_size()"
   ]
  },
  {
   "cell_type": "code",
   "execution_count": 7,
   "metadata": {},
   "outputs": [
    {
     "data": {
      "text/markdown": [
       "**<span style='color:darkred'>$ nt</span>**"
      ],
      "text/plain": [
       "<IPython.core.display.Markdown object>"
      ]
     },
     "metadata": {},
     "output_type": "display_data"
    },
    {
     "name": "stdout",
     "output_type": "stream",
     "text": [
      "nested_tensor([\n",
      "\t[\n",
      "\t\ttensor([1.0000, 0.5000, 1.5000]),\n",
      "\t\ttensor([3.0000, 1.0000, 3.3000])\n",
      "\t],\n",
      "\t[\n",
      "\t\ttensor([3., 1., 2.]),\n",
      "\t\ttensor([5., 4., 1.])\n",
      "\t]\n",
      "])\n",
      "\n"
     ]
    },
    {
     "data": {
      "text/markdown": [
       "**<span style='color:darkred'>$ nt.sum()</span>**"
      ],
      "text/plain": [
       "<IPython.core.display.Markdown object>"
      ]
     },
     "metadata": {},
     "output_type": "display_data"
    },
    {
     "name": "stdout",
     "output_type": "stream",
     "text": [
      "tensor(26.3000)\n",
      "\n"
     ]
    },
    {
     "data": {
      "text/markdown": [
       "**<span style='color:darkred'>$ nt.sum(0)</span>**"
      ],
      "text/plain": [
       "<IPython.core.display.Markdown object>"
      ]
     },
     "metadata": {},
     "output_type": "display_data"
    },
    {
     "name": "stdout",
     "output_type": "stream",
     "text": [
      "nested_tensor([\n",
      "\ttensor([4.0000, 1.5000, 3.5000]),\n",
      "\ttensor([8.0000, 5.0000, 4.3000])\n",
      "])\n",
      "\n"
     ]
    },
    {
     "data": {
      "text/markdown": [
       "**<span style='color:darkred'>$ nt.sum(1)</span>**"
      ],
      "text/plain": [
       "<IPython.core.display.Markdown object>"
      ]
     },
     "metadata": {},
     "output_type": "display_data"
    },
    {
     "name": "stdout",
     "output_type": "stream",
     "text": [
      "nested_tensor([\n",
      "\ttensor([4.0000, 1.5000, 4.8000]),\n",
      "\ttensor([8., 5., 3.])\n",
      "])\n",
      "\n"
     ]
    },
    {
     "data": {
      "text/markdown": [
       "**<span style='color:darkred'>$ nt.sum(2)</span>**"
      ],
      "text/plain": [
       "<IPython.core.display.Markdown object>"
      ]
     },
     "metadata": {},
     "output_type": "display_data"
    },
    {
     "name": "stdout",
     "output_type": "stream",
     "text": [
      "nested_tensor([\n",
      "\t[\n",
      "\t\ttensor(3.),\n",
      "\t\ttensor(7.3000)\n",
      "\t],\n",
      "\t[\n",
      "\t\ttensor(6.),\n",
      "\t\ttensor(10.)\n",
      "\t]\n",
      "])\n",
      "\n"
     ]
    }
   ],
   "source": [
    "print_eval(\"nt\")\n",
    "print_eval(\"nt.sum()\")\n",
    "print_eval(\"nt.sum(0)\")\n",
    "print_eval(\"nt.sum(1)\")\n",
    "print_eval(\"nt.sum(2)\")\n"
   ]
  },
  {
   "cell_type": "code",
   "execution_count": 8,
   "metadata": {},
   "outputs": [
    {
     "data": {
      "text/markdown": [
       "**<span style='color:darkred'>$ nt1</span>**"
      ],
      "text/plain": [
       "<IPython.core.display.Markdown object>"
      ]
     },
     "metadata": {},
     "output_type": "display_data"
    },
    {
     "name": "stdout",
     "output_type": "stream",
     "text": [
      "nested_tensor([\n",
      "\t[\n",
      "\t\ttensor([1.0000, 0.5000, 1.5000]),\n",
      "\t\ttensor([5.0000, 6.5000])\n",
      "\t],\n",
      "\t[\n",
      "\t\ttensor([3.0000, 1.0000, 3.3000]),\n",
      "\t\ttensor([5., 4.])\n",
      "\t]\n",
      "])\n",
      "\n"
     ]
    },
    {
     "data": {
      "text/markdown": [
       "**<span style='color:darkred'>$ nt1.nested_size()</span>**"
      ],
      "text/plain": [
       "<IPython.core.display.Markdown object>"
      ]
     },
     "metadata": {},
     "output_type": "display_data"
    },
    {
     "name": "stdout",
     "output_type": "stream",
     "text": [
      "torch.NestedSize((\n",
      "\t(\n",
      "\t\ttorch.Size([3]),\n",
      "\t\ttorch.Size([2])\n",
      "\t),\n",
      "\t(\n",
      "\t\ttorch.Size([3]),\n",
      "\t\ttorch.Size([2])\n",
      "\t)\n",
      "))\n",
      "\n"
     ]
    },
    {
     "data": {
      "text/markdown": [
       "**<span style='color:darkred'>$ nt1.floor().to(torch.bool)</span>**"
      ],
      "text/plain": [
       "<IPython.core.display.Markdown object>"
      ]
     },
     "metadata": {},
     "output_type": "display_data"
    },
    {
     "name": "stdout",
     "output_type": "stream",
     "text": [
      "nested_tensor([\n",
      "\t[\n",
      "\t\ttensor([ True, False,  True]),\n",
      "\t\ttensor([True, True])\n",
      "\t],\n",
      "\t[\n",
      "\t\ttensor([True, True, True]),\n",
      "\t\ttensor([True, True])\n",
      "\t]\n",
      "])\n",
      "\n"
     ]
    },
    {
     "data": {
      "text/markdown": [
       "**<span style='color:darkred'>$ nt1.floor().to(torch.bool).all(2)</span>**"
      ],
      "text/plain": [
       "<IPython.core.display.Markdown object>"
      ]
     },
     "metadata": {},
     "output_type": "display_data"
    },
    {
     "name": "stdout",
     "output_type": "stream",
     "text": [
      "nested_tensor([\n",
      "\t[\n",
      "\t\ttensor(False),\n",
      "\t\ttensor(True)\n",
      "\t],\n",
      "\t[\n",
      "\t\ttensor(True),\n",
      "\t\ttensor(True)\n",
      "\t]\n",
      "])\n",
      "\n"
     ]
    }
   ],
   "source": [
    "print_eval(\"nt1\")\n",
    "print_eval(\"nt1.nested_size()\")\n",
    "# Fails because (torch.Size([1, 3]), torch.Size([1, 1]) and \n",
    "# (torch.Size([2, 1]), torch.Size([2, 2])) cannot be added\n",
    "# print_eval(\"nt.sum((0, 1))\") \n",
    "print_eval(\"nt1.floor().to(torch.bool)\")\n",
    "print_eval(\"nt1.floor().to(torch.bool).all(2)\")"
   ]
  },
  {
   "cell_type": "code",
   "execution_count": 9,
   "metadata": {},
   "outputs": [
    {
     "data": {
      "text/markdown": [
       "**<span style='color:darkred'>$ nt1</span>**"
      ],
      "text/plain": [
       "<IPython.core.display.Markdown object>"
      ]
     },
     "metadata": {},
     "output_type": "display_data"
    },
    {
     "name": "stdout",
     "output_type": "stream",
     "text": [
      "nested_tensor([\n",
      "\t[\n",
      "\t\ttensor([1.0000, 0.5000, 1.5000]),\n",
      "\t\ttensor([5.0000, 6.5000])\n",
      "\t],\n",
      "\t[\n",
      "\t\ttensor([3.0000, 1.0000, 3.3000]),\n",
      "\t\ttensor([5., 4.])\n",
      "\t]\n",
      "])\n",
      "\n"
     ]
    },
    {
     "data": {
      "text/markdown": [
       "**<span style='color:darkred'>$ nt1.max(2)[0]</span>**"
      ],
      "text/plain": [
       "<IPython.core.display.Markdown object>"
      ]
     },
     "metadata": {},
     "output_type": "display_data"
    },
    {
     "name": "stdout",
     "output_type": "stream",
     "text": [
      "nested_tensor([\n",
      "\t[\n",
      "\t\ttensor(1.5000),\n",
      "\t\ttensor(6.5000)\n",
      "\t],\n",
      "\t[\n",
      "\t\ttensor(3.3000),\n",
      "\t\ttensor(5.)\n",
      "\t]\n",
      "])\n",
      "\n"
     ]
    },
    {
     "data": {
      "text/markdown": [
       "**<span style='color:darkred'>$ nt1.max(2)[1]</span>**"
      ],
      "text/plain": [
       "<IPython.core.display.Markdown object>"
      ]
     },
     "metadata": {},
     "output_type": "display_data"
    },
    {
     "name": "stdout",
     "output_type": "stream",
     "text": [
      "nested_tensor([\n",
      "\t[\n",
      "\t\ttensor(2),\n",
      "\t\ttensor(1)\n",
      "\t],\n",
      "\t[\n",
      "\t\ttensor(2),\n",
      "\t\ttensor(0)\n",
      "\t]\n",
      "])\n",
      "\n"
     ]
    }
   ],
   "source": [
    "print_eval(\"nt1\")\n",
    "print_eval(\"nt1.max(2)[0]\")\n",
    "print_eval(\"nt1.max(2)[1]\")"
   ]
  },
  {
   "cell_type": "code",
   "execution_count": 10,
   "metadata": {},
   "outputs": [
    {
     "data": {
      "text/plain": [
       "nested_tensor([\n",
       "\t[\n",
       "\t\ttensor([1, 0, 1], dtype=torch.int32),\n",
       "\t\ttensor([5, 6], dtype=torch.int32)\n",
       "\t],\n",
       "\t[\n",
       "\t\ttensor([3, 1, 3], dtype=torch.int32),\n",
       "\t\ttensor([5, 4], dtype=torch.int32)\n",
       "\t]\n",
       "])"
      ]
     },
     "execution_count": 10,
     "metadata": {},
     "output_type": "execute_result"
    }
   ],
   "source": [
    "nt1.int()"
   ]
  },
  {
   "cell_type": "code",
   "execution_count": null,
   "metadata": {},
   "outputs": [],
   "source": []
  }
 ],
 "metadata": {
  "kernelspec": {
   "display_name": "Python 3",
   "language": "python",
   "name": "python3"
  },
  "language_info": {
   "codemirror_mode": {
    "name": "ipython",
    "version": 3
   },
   "file_extension": ".py",
   "mimetype": "text/x-python",
   "name": "python",
   "nbconvert_exporter": "python",
   "pygments_lexer": "ipython3",
   "version": "3.7.5"
  }
 },
 "nbformat": 4,
 "nbformat_minor": 2
}
